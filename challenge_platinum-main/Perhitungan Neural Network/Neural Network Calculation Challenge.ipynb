{
 "cells": [
  {
   "cell_type": "markdown",
   "metadata": {},
   "source": [
    "# Kalkulasi Neural Network"
   ]
  },
  {
   "cell_type": "code",
   "execution_count": 4,
   "metadata": {},
   "outputs": [],
   "source": [
    "import math\n",
    "\n",
    "x1=0.7\n",
    "x2=0.8\n",
    "x3=0.9\n",
    "\n",
    "w14=0.5\n",
    "w15=0.6\n",
    "\n",
    "w24=0.3\n",
    "w25=1.1\n",
    "\n",
    "w34=-1.0\n",
    "w35=0.1\n",
    "\n",
    "w46=-1.1\n",
    "w56=-0.7\n",
    "\n",
    "theta4=0.2\n",
    "theta5=0.3\n",
    "theta6=0.4\n",
    "\n",
    "threshold=-1\n",
    "actual_output=0\n",
    "learning_rate=0.1"
   ]
  },
  {
   "cell_type": "markdown",
   "metadata": {},
   "source": [
    "## Forward Pass"
   ]
  },
  {
   "cell_type": "code",
   "execution_count": 5,
   "metadata": {},
   "outputs": [],
   "source": [
    "def sigmoid(x):\n",
    "    return 1/(1+math.exp(x))"
   ]
  },
  {
   "cell_type": "code",
   "execution_count": 14,
   "metadata": {},
   "outputs": [
    {
     "name": "stdout",
     "output_type": "stream",
     "text": [
      "Neuron 4:  0.6248064744684293 \n",
      "Neuron 5:  0.25161827839293577 \n",
      "Neuron 6:  0.7796142655898279\n"
     ]
    }
   ],
   "source": [
    "output4=sigmoid(x1*w14 + x2*w24 + x3*w34 + theta4*threshold)\n",
    "output5=sigmoid(x1*w15 + x2*w25 + x3*w35 + theta5*threshold)\n",
    "output6=sigmoid(output4*w46 + output5*w56 + theta6*threshold)\n",
    "\n",
    "print(\"Neuron 4: \", output4, \"\\nNeuron 5: \",output5, \"\\nNeuron 6: \", output6)\n"
   ]
  },
  {
   "cell_type": "markdown",
   "metadata": {},
   "source": [
    "## Backpropagation"
   ]
  },
  {
   "cell_type": "code",
   "execution_count": 15,
   "metadata": {},
   "outputs": [],
   "source": [
    "def sigmoid_derivative(x):\n",
    "    return x * (x-1)"
   ]
  },
  {
   "cell_type": "code",
   "execution_count": 16,
   "metadata": {},
   "outputs": [
    {
     "name": "stdout",
     "output_type": "stream",
     "text": [
      "Gradient 6:  0.13395009744298428\n"
     ]
    }
   ],
   "source": [
    "# calculate gradient for Neuron 6\n",
    "gradient6=(actual_output-output6)*sigmoid_derivative(output6)\n",
    "print(\"Gradient 6: \",gradient6)"
   ]
  },
  {
   "cell_type": "code",
   "execution_count": 17,
   "metadata": {},
   "outputs": [
    {
     "name": "stdout",
     "output_type": "stream",
     "text": [
      "delta w46:  0.008369288813805357\n",
      "delta w56:  0.0033704292909169696\n",
      "delta theta6:  -0.013395009744298428\n"
     ]
    }
   ],
   "source": [
    "#calculate the error derivative with respect to the weight\n",
    "dError_w46=gradient6*output4\n",
    "dError_w56=gradient6*output5\n",
    "dError_theta6=gradient6*threshold\n",
    "\n",
    "#calculate the weight correction for each weight\n",
    "delta_w46=learning_rate*dError_w46\n",
    "delta_w56=learning_rate*dError_w56\n",
    "delta_theta6=learning_rate*dError_theta6\n",
    "\n",
    "print(\"delta w46: \", delta_w46)\n",
    "print(\"delta w56: \", delta_w56)\n",
    "print(\"delta theta6: \", delta_theta6)"
   ]
  },
  {
   "cell_type": "code",
   "execution_count": 18,
   "metadata": {},
   "outputs": [
    {
     "name": "stdout",
     "output_type": "stream",
     "text": [
      "new w46:  -1.0916307111861947\n",
      "new w56:  -0.6966295707090829\n",
      "new theta6:  0.3866049902557016\n"
     ]
    }
   ],
   "source": [
    "# Update the weight\n",
    "new_w46=w46+delta_w46\n",
    "new_w56=w56+delta_w56\n",
    "new_theta6=theta6+delta_theta6\n",
    "\n",
    "print('new w46: ', new_w46)\n",
    "print('new w56: ', new_w56)\n",
    "print('new theta6: ', new_theta6)"
   ]
  },
  {
   "cell_type": "code",
   "execution_count": 19,
   "metadata": {},
   "outputs": [
    {
     "name": "stdout",
     "output_type": "stream",
     "text": [
      "gradient 4:  0.034541132738679266\n",
      "gradient 5:  0.017656573727039226\n"
     ]
    }
   ],
   "source": [
    "# calculate Gradient 4 dan 5\n",
    "gradient4=sigmoid_derivative(output4)*gradient6*w46\n",
    "gradient5=sigmoid_derivative(output5)*gradient6*w56\n",
    "\n",
    "print('gradient 4: ', gradient4)\n",
    "print('gradient 5: ', gradient5)"
   ]
  },
  {
   "cell_type": "code",
   "execution_count": 22,
   "metadata": {},
   "outputs": [
    {
     "name": "stdout",
     "output_type": "stream",
     "text": [
      "delta w14:  0.0024178792917075483\n",
      "delta w24:  0.0027632906190943416\n",
      "delta w34:  0.003108701946481134\n",
      "delta w15:  0.0012359601608927457\n",
      "delta w25:  0.0014125258981631382\n",
      "delta w35:  0.0015890916354335306\n",
      "delta theta 4:  -0.0034541132738679266\n",
      "delta theta 5:  -0.0017656573727039227\n"
     ]
    }
   ],
   "source": [
    "# calculate the delta for each weight\n",
    "delta_w14=learning_rate*x1*gradient4\n",
    "delta_w24=learning_rate*x2*gradient4\n",
    "delta_w34=learning_rate*x3*gradient4\n",
    "delta_w15=learning_rate*x1*gradient5\n",
    "delta_w25=learning_rate*x2*gradient5\n",
    "delta_w35=learning_rate*x3*gradient5\n",
    "delta_theta4=learning_rate*threshold*gradient4\n",
    "delta_theta5=learning_rate*threshold*gradient5\n",
    "\n",
    "print('delta w14: ',delta_w14)\n",
    "print('delta w24: ',delta_w24)\n",
    "print('delta w34: ',delta_w34)\n",
    "print('delta w15: ',delta_w15)\n",
    "print('delta w25: ',delta_w25)\n",
    "print('delta w35: ',delta_w35)\n",
    "print('delta theta 4: ',delta_theta4)\n",
    "print('delta theta 5: ',delta_theta5)"
   ]
  },
  {
   "cell_type": "code",
   "execution_count": 25,
   "metadata": {},
   "outputs": [
    {
     "name": "stdout",
     "output_type": "stream",
     "text": [
      "new w14:  0.5024178792917076\n",
      "new w24:  0.30276329061909435\n",
      "new w34:  -0.9968912980535188\n",
      "new w15:  0.6012359601608928\n",
      "new w25:  1.1014125258981633\n",
      "new w35:  0.10158909163543353\n",
      "new theta 4:  0.19654588672613207\n",
      "new theta 5:  0.2982343426272961\n",
      "new theta 6:  0.3866049902557016\n"
     ]
    }
   ],
   "source": [
    "# update each weight\n",
    "new_w14=w14+delta_w14\n",
    "new_w24=w24+delta_w24\n",
    "new_w34=w34+delta_w34\n",
    "new_w15=w15+delta_w15\n",
    "new_w25=w25+delta_w25\n",
    "new_w35=w35+delta_w35\n",
    "new_theta4=theta4+delta_theta4\n",
    "new_theta5=theta5+delta_theta5\n",
    "\n",
    "print('new w14: ', new_w14)\n",
    "print('new w24: ', new_w24)\n",
    "print('new w34: ', new_w34)\n",
    "print('new w15: ', new_w15)\n",
    "print('new w25: ', new_w25)\n",
    "print('new w35: ', new_w35)\n",
    "print('new theta 4: ', new_theta4)\n",
    "print('new theta 5: ', new_theta5)\n",
    "print('new theta 6: ', theta6 + delta_theta6)\n"
   ]
  },
  {
   "cell_type": "code",
   "execution_count": null,
   "metadata": {},
   "outputs": [],
   "source": []
  }
 ],
 "metadata": {
  "kernelspec": {
   "display_name": "Python 3",
   "language": "python",
   "name": "python3"
  },
  "language_info": {
   "codemirror_mode": {
    "name": "ipython",
    "version": 3
   },
   "file_extension": ".py",
   "mimetype": "text/x-python",
   "name": "python",
   "nbconvert_exporter": "python",
   "pygments_lexer": "ipython3",
   "version": "3.11.5"
  }
 },
 "nbformat": 4,
 "nbformat_minor": 2
}
